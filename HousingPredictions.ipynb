{
 "cells": [
  {
   "cell_type": "code",
   "execution_count": 12,
   "metadata": {},
   "outputs": [],
   "source": [
    "import pandas as pd\n",
    "import numpy as np\n",
    "import tensorflow as tf\n",
    "import sklearn\n",
    "from sklearn.model_selection import train_test_split\n",
    "from sklearn.preprocessing import MinMaxScaler, OneHotEncoder, LabelEncoder\n",
    "from sklearn.compose import ColumnTransformer"
   ]
  },
  {
   "cell_type": "code",
   "execution_count": 13,
   "metadata": {
    "scrolled": false
   },
   "outputs": [],
   "source": [
    "# reading data\n",
    "\n",
    "file = 'Nashville_Housing_Data_Cleaned.xlsx'\n",
    "cols = [2, 5, 6, 14, 15, 17, 18, 19, 20, 21, 22, 23, 24, 25, 26, 27]\n",
    "df = pd.read_excel(file, usecols=cols).dropna()\n",
    "#sale_price = df.pop(\"Sale Price\")"
   ]
  },
  {
   "cell_type": "code",
   "execution_count": 14,
   "metadata": {},
   "outputs": [
    {
     "name": "stdout",
     "output_type": "stream",
     "text": [
      "        Land Use Property City  Sale Price  Acreage  Neighborhood  Land Value  \\\n",
      "1  SINGLE FAMILY     NASHVILLE      191500     0.17        3127.0     32000.0   \n",
      "2  SINGLE FAMILY     NASHVILLE      202000     0.11        9126.0     34000.0   \n",
      "3  SINGLE FAMILY     NASHVILLE       32000     0.17        3130.0     25000.0   \n",
      "4  SINGLE FAMILY     NASHVILLE      102000     0.34        3130.0     25000.0   \n",
      "5  SINGLE FAMILY     NASHVILLE       93736     0.17        3130.0     25000.0   \n",
      "\n",
      "   Building Value  Total Value  Finished Area Foundation Type  Year Built  \\\n",
      "1        134400.0     168300.0     1149.00000         PT BSMT      1941.0   \n",
      "2        157800.0     191800.0     2090.82495            SLAB      2000.0   \n",
      "3        243700.0     268700.0     2145.60001       FULL BSMT      1948.0   \n",
      "4        138100.0     164800.0     1969.00000           CRAWL      1910.0   \n",
      "5         86100.0     113300.0     1037.00000           CRAWL      1945.0   \n",
      "\n",
      "  Exterior Wall Grade  Bedrooms  Full Bath  Half Bath  \n",
      "1         BRICK  C          2.0        1.0        0.0  \n",
      "2   BRICK/FRAME  C          3.0        2.0        1.0  \n",
      "3   BRICK/FRAME  B          4.0        2.0        0.0  \n",
      "4         FRAME  C          2.0        1.0        0.0  \n",
      "5         FRAME  C          2.0        1.0        0.0  \n"
     ]
    }
   ],
   "source": [
    "print(df.head())"
   ]
  },
  {
   "cell_type": "code",
   "execution_count": 15,
   "metadata": {},
   "outputs": [],
   "source": [
    "# split the data into training and testing sets\n",
    "train_df, test_df = train_test_split(df, test_size=0.2)\n",
    "\n",
    "# extract the numerical and categorical columns\n",
    "numerical_cols = train_df.select_dtypes(include=np.number).columns\n",
    "categorical_cols = train_df.select_dtypes(exclude=np.number).columns\n",
    "\n",
    "# scale the numerical data\n",
    "scaler = MinMaxScaler()\n",
    "train_df[numerical_cols] = scaler.fit_transform(train_df[numerical_cols])\n",
    "test_df[numerical_cols] = scaler.transform(test_df[numerical_cols])\n",
    "\n",
    "# one-hot encode the categorical data\n",
    "encoder = OneHotEncoder(handle_unknown='ignore')\n",
    "train_df = pd.concat([train_df, pd.DataFrame(encoder.fit_transform(train_df[categorical_cols]).toarray())], axis=1)\n",
    "train_df.drop(categorical_cols, axis=1, inplace=True)\n",
    "train_df.dropna(how='any', inplace=True)\n",
    "test_df = pd.concat([test_df, pd.DataFrame(encoder.transform(test_df[categorical_cols]).toarray())], axis=1)\n",
    "test_df.drop(categorical_cols, axis=1, inplace=True)\n",
    "test_df.dropna(how='any', inplace=True)\n"
   ]
  },
  {
   "cell_type": "code",
   "execution_count": 16,
   "metadata": {},
   "outputs": [
    {
     "name": "stdout",
     "output_type": "stream",
     "text": [
      "(6566, 75) \n",
      " (482, 75)\n"
     ]
    }
   ],
   "source": [
    "print(train_df.shape, \"\\n\", test_df.shape)"
   ]
  },
  {
   "cell_type": "code",
   "execution_count": 17,
   "metadata": {},
   "outputs": [
    {
     "name": "stdout",
     "output_type": "stream",
     "text": [
      "Epoch 1/25\n",
      "165/165 [==============================] - 1s 2ms/step - loss: 0.0018 - val_loss: 0.0010\n",
      "Epoch 2/25\n",
      "165/165 [==============================] - 0s 1ms/step - loss: 7.0177e-04 - val_loss: 8.2550e-04\n",
      "Epoch 3/25\n",
      "165/165 [==============================] - 0s 1ms/step - loss: 4.9228e-04 - val_loss: 8.5772e-04\n",
      "Epoch 4/25\n",
      "165/165 [==============================] - 0s 1ms/step - loss: 4.1683e-04 - val_loss: 5.9987e-04\n",
      "Epoch 5/25\n",
      "165/165 [==============================] - 0s 1ms/step - loss: 3.1590e-04 - val_loss: 6.1103e-04\n",
      "Epoch 6/25\n",
      "165/165 [==============================] - 0s 1ms/step - loss: 2.7227e-04 - val_loss: 4.3913e-04\n",
      "Epoch 7/25\n",
      "165/165 [==============================] - 0s 1ms/step - loss: 2.1400e-04 - val_loss: 3.8008e-04\n",
      "Epoch 8/25\n",
      "165/165 [==============================] - 0s 1ms/step - loss: 1.7306e-04 - val_loss: 2.9848e-04\n",
      "Epoch 9/25\n",
      "165/165 [==============================] - 0s 1ms/step - loss: 1.4512e-04 - val_loss: 2.4924e-04\n",
      "Epoch 10/25\n",
      "165/165 [==============================] - 0s 1ms/step - loss: 1.0584e-04 - val_loss: 2.3834e-04\n",
      "Epoch 11/25\n",
      "165/165 [==============================] - 0s 1ms/step - loss: 1.0005e-04 - val_loss: 2.0492e-04\n",
      "Epoch 12/25\n",
      "165/165 [==============================] - 0s 1ms/step - loss: 7.2210e-05 - val_loss: 1.5956e-04\n",
      "Epoch 13/25\n",
      "165/165 [==============================] - 0s 1ms/step - loss: 6.0436e-05 - val_loss: 1.6269e-04\n",
      "Epoch 14/25\n",
      "165/165 [==============================] - 0s 1ms/step - loss: 6.2806e-05 - val_loss: 1.3389e-04\n",
      "Epoch 15/25\n",
      "165/165 [==============================] - 0s 1ms/step - loss: 4.8040e-05 - val_loss: 3.3461e-04\n",
      "Epoch 16/25\n",
      "165/165 [==============================] - 0s 1ms/step - loss: 7.2372e-05 - val_loss: 1.2984e-04\n",
      "Epoch 17/25\n",
      "165/165 [==============================] - 0s 1ms/step - loss: 4.6496e-05 - val_loss: 1.1686e-04\n",
      "Epoch 18/25\n",
      "165/165 [==============================] - 0s 1ms/step - loss: 3.2909e-05 - val_loss: 1.1891e-04\n",
      "Epoch 19/25\n",
      "165/165 [==============================] - 0s 1ms/step - loss: 2.9857e-05 - val_loss: 1.1689e-04\n",
      "Epoch 20/25\n",
      "165/165 [==============================] - 0s 1ms/step - loss: 2.6814e-05 - val_loss: 1.0435e-04\n",
      "Epoch 21/25\n",
      "165/165 [==============================] - 0s 1ms/step - loss: 2.6994e-05 - val_loss: 9.4272e-05\n",
      "Epoch 22/25\n",
      "165/165 [==============================] - 0s 1ms/step - loss: 2.1431e-05 - val_loss: 9.3055e-05\n",
      "Epoch 23/25\n",
      "165/165 [==============================] - 0s 1ms/step - loss: 2.3033e-05 - val_loss: 9.6766e-05\n",
      "Epoch 24/25\n",
      "165/165 [==============================] - 0s 1ms/step - loss: 2.2645e-05 - val_loss: 7.5704e-05\n",
      "Epoch 25/25\n",
      "165/165 [==============================] - 0s 1ms/step - loss: 2.2036e-05 - val_loss: 8.5772e-05\n",
      "16/16 [==============================] - 0s 1ms/step - loss: 5.2028e-05\n",
      "16/16 [==============================] - 0s 934us/step\n"
     ]
    }
   ],
   "source": [
    "# model\n",
    "model = tf.keras.Sequential()\n",
    "model.add(tf.keras.layers.Dense(64, activation='relu', input_shape=(train_df.shape[1],)))\n",
    "model.add(tf.keras.layers.Dense(32, activation='relu'))\n",
    "model.add(tf.keras.layers.Dense(1))\n",
    "\n",
    "model.compile(optimizer='adam', loss='mean_squared_error')\n",
    "\n",
    "history = model.fit(train_df, train_df[\"Sale Price\"], epochs=25, batch_size=32, validation_split=0.2)\n",
    "test_loss = model.evaluate(test_df, test_df[\"Sale Price\"])\n",
    "\n",
    "# Make predictions\n",
    "predictions = model.predict(test_df)"
   ]
  },
  {
   "cell_type": "code",
   "execution_count": 19,
   "metadata": {},
   "outputs": [
    {
     "data": {
      "image/png": "[encoded data removed]",
      "text/plain": [
       "<Figure size 640x480 with 1 Axes>"
      ]
     },
     "metadata": {},
     "output_type": "display_data"
    }
   ],
   "source": [
    "# plotting loss",
    "import matplotlib.pyplot as plt\n",
    "plt.plot(history.history['loss'])\n",
    "plt.plot(history.history['val_loss'])\n",
    "plt.title('model loss')\n",
    "plt.ylabel('loss')\n",
    "plt.xlabel('epoch')\n",
    "plt.legend(['train', 'val'], loc='upper right')\n",
    "plt.show()\n"
   ]
  },
  {
   "cell_type": "code",
   "execution_count": 20,
   "metadata": {},
   "outputs": [
    {
     "name": "stdout",
     "output_type": "stream",
     "text": [
      "[[0.01103806]]\n"
     ]
    }
   ],
   "source": [
    "print(predictions[:1])\n"
   ]
  }
 ],
 "metadata": {
  "kernelspec": {
   "display_name": "Python 3 (ipykernel)",
   "language": "python",
   "name": "python3"
  },
  "language_info": {
   "codemirror_mode": {
    "name": "ipython",
    "version": 3
   },
   "file_extension": ".py",
   "mimetype": "text/x-python",
   "name": "python",
   "nbconvert_exporter": "python",
   "pygments_lexer": "ipython3",
   "version": "3.10.5 (tags/v3.10.5:f377153, Jun  6 2022, 16:14:13) [MSC v.1929 64 bit (AMD64)]"
  },
  "vscode": {
   "interpreter": {
    "hash": "1834c65cfd22397ea03ff9179b88f7e4dfa9a2f8fdb3ef66e70e5ff7340e59ad"
   }
  }
 },
 "nbformat": 4,
 "nbformat_minor": 4
}
